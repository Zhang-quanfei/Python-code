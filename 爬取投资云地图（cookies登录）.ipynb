{
 "cells": [
  {
   "cell_type": "code",
   "execution_count": 1,
   "id": "5c43058e",
   "metadata": {},
   "outputs": [],
   "source": [
    "#爬取成都信息\n",
    "import json\n",
    "import requests\n",
    "import pandas as pd\n",
    "url = 'https://www.tzymap.com/dmc-web/dmc-web/lms/work/account/landlist'\n",
    "# 设置请求头\n",
    "headers = {\n",
    "    \"Content-Type\": \"application/json;charset=UTF-8\",\n",
    "    \"Origin\": \"http://v1.tzymap.com\",\n",
    "    \"Referer\": \"http://v1.tzymap.com/\",\n",
    "    \"Token\": \"16dbb63d7b8cd187ad0840c76c879b33\", #每次登录需要更换\n",
    "    \"User-Agent\": \"Mozilla/5.0 (Windows NT 10.0; Win64; x64) AppleWebKit/537.36 (KHTML, like Gecko) Chrome/120.0.0.0 Safari/537.36 Edg/120.0.0.0\",\n",
    "}\n",
    "\n",
    "# 设置Cookie\n",
    "cookies = {\n",
    "    \"JSESSIONID\": \"d177593b-543d-4e24-aa9a-945b6e24e7fe\",\n",
    "}\n",
    "\n",
    "data = {\n",
    "    \"datatype\": \"gov\",\n",
    "    \"landType\": [\"traded\"],\n",
    "    \"landCityno\": \"511300\"#\"region\": [\"510104\"],  #改为landCityno: \"510100\"，爬取成都市；511300爬取南充市\n",
    "    #\"year\": \"\"\n",
    "}\n",
    "\n",
    "response = requests.post(url, headers=headers, cookies=cookies, json=data)\n",
    "jsonData = json.loads(response.text)\n",
    "DFData = pd.DataFrame(jsonData['data']['land_list'])\n",
    "DFData.to_excel(r'F:\\Users\\zhang\\Desktop\\output.xlsx', index=False)"
   ]
  },
  {
   "cell_type": "code",
   "execution_count": null,
   "id": "c6d51bb6",
   "metadata": {},
   "outputs": [],
   "source": []
  }
 ],
 "metadata": {
  "kernelspec": {
   "display_name": "Python (py38)",
   "language": "python",
   "name": "py38"
  },
  "language_info": {
   "codemirror_mode": {
    "name": "ipython",
    "version": 3
   },
   "file_extension": ".py",
   "mimetype": "text/x-python",
   "name": "python",
   "nbconvert_exporter": "python",
   "pygments_lexer": "ipython3",
   "version": "3.8.17"
  }
 },
 "nbformat": 4,
 "nbformat_minor": 5
}
