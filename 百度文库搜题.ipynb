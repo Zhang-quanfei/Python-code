{
 "cells": [
  {
   "cell_type": "code",
   "execution_count": null,
   "id": "dc97e68c",
   "metadata": {},
   "outputs": [
    {
     "name": "stdout",
     "output_type": "stream",
     "text": [
      "请输入问题:太阳为什么从东方升起\n",
      "“太阳每天从东方升起”是真理吗（）\n",
      "A. 不是\n",
      "B. 是\n",
      "C. 有时是\n",
      "D. 不清楚\n",
      "答案: A.不是\n",
      "请输入问题:什么是真理\n",
      "什么是真理？\n",
      "暂\n",
      "无\n",
      "选\n",
      "项\n",
      "答案: 是人们对于客观事物及其规律的正确认识。\n",
      "请输入问题:中国特色社会主义目标\n",
      "中国特色社会主义的基本目标是(    )\n",
      "A. 解放生产力\n",
      "B. 发展生产力\n",
      "C. 消灭剥削\n",
      "D. 实现共同富裕\n",
      "答案: D.实现共同富裕\n"
     ]
    }
   ],
   "source": [
    "\n",
    "# 导入requests库，用于发送HTTP请求\n",
    "import requests  # pip install request\n",
    "\n",
    "\n",
    "# 定义一个名为Question的函数，该函数的功能是从指定URL获取问题、选项和答案\n",
    "def Question(text):\n",
    "    # 设置要访问的URL\n",
    "    url = \"https://api.pearktrue.cn/api/baidutiku/\"\n",
    "    # 设置要传递的参数，包括一个问题\n",
    "    params = {\n",
    "        \"question\": f\"{text}\"\n",
    "    }\n",
    "    # 向指定URL发送GET请求，并获取响应结果\n",
    "    response = requests.get(url, params=params)\n",
    "    # 将响应结果转换为JSON格式的数据\n",
    "    data = response.json()\n",
    "\n",
    "    # 从数据中提取问题、选项和答案\n",
    "    question = data[\"data\"][\"question\"]\n",
    "    options = data[\"data\"][\"options\"]\n",
    "    answer = data[\"data\"][\"answer\"]\n",
    "\n",
    "    # 返回问题、选项和答案\n",
    "    return question, options, answer\n",
    "\n",
    "\n",
    "# 如果当前文件被直接运行（而不是作为模块导入），则执行以下代码\n",
    "if __name__ == \"__main__\":\n",
    "    while True:\n",
    "        Input_text = input(\"请输入问题:\")\n",
    "        if Input_text in [\"\", \"q\", \"拜拜\"]:\n",
    "            break\n",
    "        # 调用Question函数，获取问题、选项和答案\n",
    "        题目, 选项, 答案 = Question(Input_text)\n",
    "        # 输出问题\n",
    "        print(题目)\n",
    "        # 判断选项是否为字符串类型\n",
    "        if 选项 is str:\n",
    "            # 如果是，则直接输出选项\n",
    "            print(选项)\n",
    "        else:\n",
    "            # 如果不是，则遍历选项并逐一输出\n",
    "            for i in 选项:\n",
    "                print(i)\n",
    "        # 输出答案\n",
    "        print(\"答案:\", 答案)"
   ]
  },
  {
   "cell_type": "code",
   "execution_count": null,
   "id": "504caf9a",
   "metadata": {},
   "outputs": [],
   "source": []
  }
 ],
 "metadata": {
  "kernelspec": {
   "display_name": "Python (py38)",
   "language": "python",
   "name": "py38"
  },
  "language_info": {
   "codemirror_mode": {
    "name": "ipython",
    "version": 3
   },
   "file_extension": ".py",
   "mimetype": "text/x-python",
   "name": "python",
   "nbconvert_exporter": "python",
   "pygments_lexer": "ipython3",
   "version": "3.8.17"
  }
 },
 "nbformat": 4,
 "nbformat_minor": 5
}
